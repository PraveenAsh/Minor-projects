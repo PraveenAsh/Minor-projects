{
 "cells": [
  {
   "cell_type": "code",
   "execution_count": null,
   "metadata": {},
   "outputs": [],
   "source": [
    "%matplotlib inline\n",
    "import json"
   ]
  },
  {
   "cell_type": "code",
   "execution_count": null,
   "metadata": {},
   "outputs": [],
   "source": [
    "def json_to_list(table_object):\n",
    "    headings = table_object['headings']\n",
    "    line_item = table_object['line_item']\n",
    "    list_csv = []\n",
    "    once = True\n",
    "    for k, v in line_item.items():\n",
    "        small =[]\n",
    "        for key, val in v.items():\n",
    "            if(once == True):\n",
    "                header = []\n",
    "                header = list(v.keys())\n",
    "                print(header)\n",
    "                list_csv.append(header)\n",
    "                once =  False\n",
    "                print(val)\n",
    "            small.append(val)\n",
    "        list_csv.append(small)\n",
    "        \n",
    "    print(list_csv)\n",
    "    return header, list_csv"
   ]
  },
  {
   "cell_type": "code",
   "execution_count": null,
   "metadata": {},
   "outputs": [],
   "source": []
  },
  {
   "cell_type": "code",
   "execution_count": null,
   "metadata": {},
   "outputs": [],
   "source": [
    "with open('pdata.json', 'r') as f:\n",
    "    table_object = json.load(f)\n",
    "print(type(table_object))\n",
    "\n",
    "for each_table in table_object:\n",
    "    heading, data = json_to_list(each_table)\n",
    "    \n",
    "    print(len(data))\n",
    "    print(data)\n",
    "    #data.reverse()\n",
    "    print(len(data))\n",
    "    print(len(data[0]))\n",
    "    print(data[0])\n",
    "    print(len(heading))\n",
    "    table = plt.table(cellText=data,\n",
    "                      colLabels=heading,\n",
    "                      loc='top')\n",
    "\n",
    "    plt.subplots_adjust(right=1,left=.9, bottom=-0.4)\n",
    "    plt.axis(\"off\")\n",
    "    plt.figure(figsize=(7, 7)) # This increases resolution\n",
    "    #plt.show()\n",
    "    "
   ]
  },
  {
   "cell_type": "markdown",
   "metadata": {},
   "source": [
    "\n",
    "# Table Demo\n",
    "\n",
    "\n",
    "Demo of table function to display a table within a plot.\n",
    "\n"
   ]
  },
  {
   "cell_type": "code",
   "execution_count": null,
   "metadata": {},
   "outputs": [],
   "source": [
    "import numpy as np\n",
    "import matplotlib.pyplot as plt\n",
    "\n",
    "\n",
    "data = [[ 66386, 174296,  75131, 577908,  32015],\n",
    "        [ 58230, 381139,  780657589384593875947645,  99308, 160454],\n",
    "        [ 89135,  80552, 152558, 497981, 603535],\n",
    "        [ 78415,  81858, 150656, 193263,  69638],\n",
    "        [139361, 331509, 343164, 781380,  52269]]\n",
    "\n",
    "columns = ('Freeze', 'Wind', 'Flood', 'Quake', 'Hail')\n",
    "rows = ['%d year' % x for x in (100, 50, 20, 10, 5)]\n",
    "\n",
    "values = np.arange(0, 2500, 500)\n",
    "value_increment = 1000\n",
    "\n",
    "# Get some pastel shades for the colors\n",
    "colors = plt.cm.BuPu(np.linspace(0, 0.5, len(rows)))\n",
    "n_rows = len(data)\n",
    "\n",
    "index = np.arange(len(columns)) + 0.3\n",
    "bar_width = 0.4\n",
    "\n",
    "# Initialize the vertical-offset for the stacked bar chart.\n",
    "y_offset = np.zeros(len(columns))\n",
    "\n",
    "# Plot bars and create text labels for the table\n",
    "cell_text = []\n",
    "for row in range(n_rows):\n",
    "    #plt.bar(index, data[row], bar_width, bottom=y_offset, color=colors[row])\n",
    "    #y_offset = y_offset + data[row]\n",
    "    cell_text.append(['%1.1f' % (x / 1000.0) for x in y_offset])\n",
    "# Reverse colors and text labels to display the last value at the top.\n",
    "# colors = colors[::-1]\n",
    "cell_text.reverse()\n",
    "\n",
    "# Add a table at the bottom of the axes\n",
    "the_table = plt.table(cellText=data,\n",
    "                      rowLabels=rows,\n",
    "                      rowColours=colors,\n",
    "                      colLabels=columns,\n",
    "                      loc='top')\n",
    "#print(the_table.properties())\n",
    "the_table.auto_set_column_width([0,1,2,3,4])\n",
    "the_table.scale(1.5, 1)\n",
    "#the_table.set_fontsize(15)\n",
    "# Adjust layout to make room for the table:\n",
    "plt.subplots_adjust(right=1,left=.9, bottom=-0.4)\n",
    "plt.axis(\"off\")\n",
    "\n",
    "# plt.ylabel(\"Loss in ${0}'s\".format(value_increment))\n",
    "# plt.yticks(values * value_increment, ['%d' % val for val in values])\n",
    "# plt.xticks([])\n",
    "# plt.title('Loss by Disaster')\n",
    "#plt.figure(figsize=(7, 7)) # This increases resolution\n",
    "plt.savefig('test_image_syn.png',transparent=True,bbox_inches=\"tight\")\n",
    "plt.show()"
   ]
  },
  {
   "cell_type": "code",
   "execution_count": 1,
   "metadata": {},
   "outputs": [],
   "source": [
    "import numpy as np\n",
    "import matplotlib.pyplot as plt\n",
    "test_list = [['Slno', 'Product desc', 'Unit price', 'Qty', 'Price'],\n",
    "             [1, 'CHILDRENS CUTLERY RETROSPOT RED ', '847226', 1, 847226],\n",
    "             [2, 'ENGLISH ROSE HOT WATER BOTTLE', '1977', 1, 1977],\n",
    "             [3, 'TOADSTOOL MONEY BOX', '515458', 2, 1030916],\n",
    "             [4, 'LUNCH BOX WITH CUTLERY FAIRY CAKES ', '5964', 4, 23856]]"
   ]
  },
  {
   "cell_type": "code",
   "execution_count": 4,
   "metadata": {},
   "outputs": [],
   "source": [
    "def drawTable(list_data, index):\n",
    "    heading, data = list_data[0], list_data[1:]\n",
    "    print(data)\n",
    "    the_table = plt.table(cellText=data,\n",
    "                      rowLabels = None,\n",
    "                      colLabels=heading,\n",
    "                      loc='top')\n",
    "    the_table.auto_set_column_width(x for x in range(len(heading)))\n",
    "    the_table.scale(1.5, 1)\n",
    "    plt.subplots_adjust(right=1,left=.9, bottom=-0.4)\n",
    "    plt.axis(\"off\")\n",
    "    plt.figure(figsize=(20, 20))\n",
    "    plt.savefig('test_image_'+str(index)+'.png',bbox_inches=\"tight\",transparent=True)\n",
    "    #plt.show()"
   ]
  },
  {
   "cell_type": "code",
   "execution_count": 5,
   "metadata": {},
   "outputs": [
    {
     "name": "stdout",
     "output_type": "stream",
     "text": [
      "[[1, 'CHILDRENS CUTLERY RETROSPOT RED ', '847226', 1, 847226], [2, 'ENGLISH ROSE HOT WATER BOTTLE', '1977', 1, 1977], [3, 'TOADSTOOL MONEY BOX', '515458', 2, 1030916], [4, 'LUNCH BOX WITH CUTLERY FAIRY CAKES ', '5964', 4, 23856]]\n"
     ]
    },
    {
     "data": {
      "image/png": "[encoded data removed]",
      "text/plain": [
       "<Figure size 432x288 with 1 Axes>"
      ]
     },
     "metadata": {},
     "output_type": "display_data"
    },
    {
     "data": {
      "text/plain": [
       "<Figure size 1440x1440 with 0 Axes>"
      ]
     },
     "metadata": {},
     "output_type": "display_data"
    }
   ],
   "source": [
    "drawTable(test_list,0)"
   ]
  },
  {
   "cell_type": "code",
   "execution_count": null,
   "metadata": {},
   "outputs": [],
   "source": []
  },
  {
   "cell_type": "code",
   "execution_count": null,
   "metadata": {},
   "outputs": [],
   "source": []
  }
 ],
 "metadata": {
  "kernelspec": {
   "display_name": "Python 3",
   "language": "python",
   "name": "python3"
  },
  "language_info": {
   "codemirror_mode": {
    "name": "ipython",
    "version": 3
   },
   "file_extension": ".py",
   "mimetype": "text/x-python",
   "name": "python",
   "nbconvert_exporter": "python",
   "pygments_lexer": "ipython3",
   "version": "3.6.4"
  }
 },
 "nbformat": 4,
 "nbformat_minor": 1
}
